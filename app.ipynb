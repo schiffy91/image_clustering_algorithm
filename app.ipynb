{
 "cells": [
  {
   "cell_type": "code",
   "execution_count": 2,
   "metadata": {},
   "outputs": [],
   "source": [
    "import os\n",
    "import shutil\n",
    "import numpy as np\n",
    "import torch\n",
    "from facenet_pytorch import InceptionResnetV1\n",
    "import torchvision.models as models\n",
    "import torchvision.transforms as transforms\n",
    "from PIL import Image\n",
    "from tqdm import tqdm\n",
    "from sklearn.cluster import KMeans\n",
    "from sklearn.metrics import silhouette_score\n",
    "import glob\n",
    "import pickle\n",
    "import warnings\n",
    "\n",
    "warnings.filterwarnings(\"ignore\")\n",
    "device = torch.device(\"cuda\" if torch.cuda.is_available() else \"mps\" if torch.backends.mps.is_available() else \"cpu\")\n",
    "version = \"0.1\""
   ]
  },
  {
   "cell_type": "code",
   "execution_count": 11,
   "metadata": {},
   "outputs": [],
   "source": [
    "class ImageClusteringAlgorithm:\n",
    "    def __init__(self):\n",
    "        self.facenet_model = InceptionResnetV1(pretrained=\"vggface2\").eval().to(device)\n",
    "        self.resnet_model = models.resnet50(pretrained=True).eval().to(device)\n",
    "\n",
    "    def compute_features(self, image_directory):\n",
    "        self.image_directory = os.path.expanduser(image_directory)\n",
    "        file_extensions = (\"*.jpg\", \"*.jpeg\", \"*.png\", \"*.bmp\", \"*.tiff\", \"*.tif\")\n",
    "        self.image_paths = []\n",
    "        for extension in file_extensions:\n",
    "            self.image_paths.extend(glob.glob(os.path.join(self.image_directory, extension)))\n",
    "        features = []\n",
    "        for image_path in tqdm(self.image_paths, desc=\"Computing features...\"):\n",
    "            feature = self._generate_image_features(image_path)\n",
    "            features.append(feature)\n",
    "        self.features = np.vstack(features)\n",
    "\n",
    "    def compute_clusters(self, max_clusters, find_optimal_num_clusters=True):\n",
    "        max_score = 0\n",
    "        min_clusters = max_clusters\n",
    "        if find_optimal_num_clusters:\n",
    "            min_clusters = 2\n",
    "        for i in tqdm(range(min_clusters, max_clusters + 1), \"Calculating optimal clusters...\"):\n",
    "            kmeans = KMeans(n_clusters=i, random_state=42)\n",
    "            labels = kmeans.fit_predict(self.features)\n",
    "            silhouette_avg = silhouette_score(self.features, labels)\n",
    "            print(f\"Silhouette score: {silhouette_avg:.4f}\")\n",
    "            if silhouette_avg > max_score:\n",
    "                print(f\"new best cluster: {i}, silhouette score: {silhouette_avg:.4f}\")\n",
    "                max_score = silhouette_avg\n",
    "                self.num_clusters = i\n",
    "                self.labels = labels\n",
    "                self.clusters = [[] for _ in range(self.labels.max() + 1)]\n",
    "                for idx, label in enumerate(self.labels):\n",
    "                    self.clusters[label].append(self.image_paths[idx])\n",
    "\n",
    "    def save_clustered_images(self, output_directory, dry_run=False):\n",
    "        output_directory = os.path.expanduser(output_directory)\n",
    "        os.makedirs(output_directory, exist_ok=True)\n",
    "        for cluster_id in tqdm(range(self.num_clusters), \"Saving clusters...\"):\n",
    "            i = 0\n",
    "            cluster_name_zfill = len(str(self.num_clusters))\n",
    "            cluster_name = format(f\"{cluster_id}\".zfill(cluster_name_zfill))\n",
    "            cluster_element_zfill = len(str(f\"{len(self.clusters[cluster_id])}\"))\n",
    "            for image_path in self.clusters[cluster_id]:\n",
    "                cluster_element = format(f\"{i}\".zfill(cluster_element_zfill))\n",
    "                new_file_name = os.path.join(output_directory, f\"cluster_{cluster_name}_{cluster_element}{os.path.splitext(image_path)[1]}\")\n",
    "                i = i + 1\n",
    "                if dry_run:\n",
    "                    print(new_file_name)\n",
    "                else:\n",
    "                    shutil.copyfile(image_path, new_file_name)\n",
    "\n",
    "    def _generate_image_features(self, image_path):\n",
    "        image = Image.open(image_path).convert(\"RGB\")\n",
    "        transform = transforms.Compose([transforms.Resize((224, 224)), \n",
    "                                        transforms.ToTensor(), \n",
    "                                        transforms.Normalize(mean=[0.485, 0.456, 0.406], std=[0.229, 0.224, 0.225])])\n",
    "        image_tensor = transform(image).unsqueeze(0).to(device)\n",
    "        with torch.no_grad():\n",
    "            resnet_features = self.resnet_model(image_tensor)\n",
    "            face_features = self.facenet_model(image_tensor)\n",
    "        features = np.concatenate((face_features.cpu().detach().numpy(), resnet_features.cpu().detach().numpy()), axis=1)\n",
    "        return features\n",
    "    \n",
    "    def save_features(self, file_name):\n",
    "        file_name = os.path.expanduser(file_name)\n",
    "        data = { \"features\": self.features, \"image_paths\": self.image_paths, \"image_directory\": self.image_directory, \"version\": version }\n",
    "        with open(file_name, \"wb\") as file: \n",
    "            pickle.dump(data, file)\n",
    "    \n",
    "    def load_features(self, file_name):\n",
    "        file_name = os.path.expanduser(file_name)\n",
    "        with open(file_name, \"rb\") as file:\n",
    "            data = pickle.load(file)\n",
    "        self.features = data[\"features\"]\n",
    "        self.image_paths = data[\"image_paths\"]\n",
    "        self.image_directory = data[\"image_directory\"]\n",
    "\n",
    "    def save_clusters(self, file_name):\n",
    "        file_name = os.path.expanduser(file_name)\n",
    "        data = { \"num_clusters\": self.num_clusters, \"clusters\": self.clusters, \"version\": version }\n",
    "        with open(file_name, \"wb\") as file: \n",
    "            pickle.dump(data, file)\n",
    "\n",
    "    def load_clusters(self, file_name):\n",
    "        with open(file_name, \"rb\") as file:\n",
    "            data = pickle.load(file)\n",
    "        self.num_clusters = data[\"num_clusters\"]\n",
    "        self.clusters = data[\"clusters\"]"
   ]
  },
  {
   "cell_type": "code",
   "execution_count": 17,
   "metadata": {},
   "outputs": [
    {
     "name": "stderr",
     "output_type": "stream",
     "text": [
      "Calculating optimal clusters...:   1%|          | 1/99 [00:05<08:30,  5.21s/it]"
     ]
    },
    {
     "name": "stdout",
     "output_type": "stream",
     "text": [
      "Silhouette score: 0.1132\n",
      "new best cluster: 2, silhouette score: 0.1132\n"
     ]
    },
    {
     "name": "stderr",
     "output_type": "stream",
     "text": [
      "Calculating optimal clusters...:   2%|▏         | 2/99 [00:11<09:09,  5.66s/it]"
     ]
    },
    {
     "name": "stdout",
     "output_type": "stream",
     "text": [
      "Silhouette score: 0.0914\n"
     ]
    },
    {
     "name": "stderr",
     "output_type": "stream",
     "text": [
      "Calculating optimal clusters...:   3%|▎         | 3/99 [00:17<09:27,  5.91s/it]"
     ]
    },
    {
     "name": "stdout",
     "output_type": "stream",
     "text": [
      "Silhouette score: 0.0928\n"
     ]
    },
    {
     "name": "stderr",
     "output_type": "stream",
     "text": [
      "Calculating optimal clusters...:   4%|▍         | 4/99 [00:24<10:02,  6.34s/it]"
     ]
    },
    {
     "name": "stdout",
     "output_type": "stream",
     "text": [
      "Silhouette score: 0.0722\n"
     ]
    },
    {
     "name": "stderr",
     "output_type": "stream",
     "text": [
      "Calculating optimal clusters...:   5%|▌         | 5/99 [00:31<10:20,  6.60s/it]"
     ]
    },
    {
     "name": "stdout",
     "output_type": "stream",
     "text": [
      "Silhouette score: 0.0688\n"
     ]
    },
    {
     "name": "stderr",
     "output_type": "stream",
     "text": [
      "Calculating optimal clusters...:   6%|▌         | 6/99 [00:39<10:58,  7.08s/it]"
     ]
    },
    {
     "name": "stdout",
     "output_type": "stream",
     "text": [
      "Silhouette score: 0.0635\n"
     ]
    },
    {
     "name": "stderr",
     "output_type": "stream",
     "text": [
      "Calculating optimal clusters...:   7%|▋         | 7/99 [00:46<10:59,  7.17s/it]"
     ]
    },
    {
     "name": "stdout",
     "output_type": "stream",
     "text": [
      "Silhouette score: 0.0626\n"
     ]
    },
    {
     "name": "stderr",
     "output_type": "stream",
     "text": [
      "Calculating optimal clusters...:   8%|▊         | 8/99 [00:55<11:26,  7.54s/it]"
     ]
    },
    {
     "name": "stdout",
     "output_type": "stream",
     "text": [
      "Silhouette score: 0.0636\n"
     ]
    },
    {
     "name": "stderr",
     "output_type": "stream",
     "text": [
      "Calculating optimal clusters...:   9%|▉         | 9/99 [01:04<12:00,  8.01s/it]"
     ]
    },
    {
     "name": "stdout",
     "output_type": "stream",
     "text": [
      "Silhouette score: 0.0614\n"
     ]
    },
    {
     "name": "stderr",
     "output_type": "stream",
     "text": [
      "Calculating optimal clusters...:  10%|█         | 10/99 [01:14<13:03,  8.80s/it]"
     ]
    },
    {
     "name": "stdout",
     "output_type": "stream",
     "text": [
      "Silhouette score: 0.0639\n"
     ]
    },
    {
     "name": "stderr",
     "output_type": "stream",
     "text": [
      "Calculating optimal clusters...:  11%|█         | 11/99 [01:24<13:24,  9.14s/it]"
     ]
    },
    {
     "name": "stdout",
     "output_type": "stream",
     "text": [
      "Silhouette score: 0.0627\n"
     ]
    },
    {
     "name": "stderr",
     "output_type": "stream",
     "text": [
      "Calculating optimal clusters...:  12%|█▏        | 12/99 [01:35<13:54,  9.59s/it]"
     ]
    },
    {
     "name": "stdout",
     "output_type": "stream",
     "text": [
      "Silhouette score: 0.0633\n"
     ]
    },
    {
     "name": "stderr",
     "output_type": "stream",
     "text": [
      "Calculating optimal clusters...:  13%|█▎        | 13/99 [01:46<14:25, 10.06s/it]"
     ]
    },
    {
     "name": "stdout",
     "output_type": "stream",
     "text": [
      "Silhouette score: 0.0616\n"
     ]
    },
    {
     "name": "stderr",
     "output_type": "stream",
     "text": [
      "Calculating optimal clusters...:  14%|█▍        | 14/99 [01:58<15:01, 10.61s/it]"
     ]
    },
    {
     "name": "stdout",
     "output_type": "stream",
     "text": [
      "Silhouette score: 0.0608\n"
     ]
    },
    {
     "name": "stderr",
     "output_type": "stream",
     "text": [
      "Calculating optimal clusters...:  15%|█▌        | 15/99 [02:08<14:52, 10.63s/it]"
     ]
    },
    {
     "name": "stdout",
     "output_type": "stream",
     "text": [
      "Silhouette score: 0.0600\n"
     ]
    },
    {
     "name": "stderr",
     "output_type": "stream",
     "text": [
      "Calculating optimal clusters...:  16%|█▌        | 16/99 [02:20<14:57, 10.81s/it]"
     ]
    },
    {
     "name": "stdout",
     "output_type": "stream",
     "text": [
      "Silhouette score: 0.0587\n"
     ]
    },
    {
     "name": "stderr",
     "output_type": "stream",
     "text": [
      "Calculating optimal clusters...:  17%|█▋        | 17/99 [02:31<15:06, 11.05s/it]"
     ]
    },
    {
     "name": "stdout",
     "output_type": "stream",
     "text": [
      "Silhouette score: 0.0606\n"
     ]
    },
    {
     "name": "stderr",
     "output_type": "stream",
     "text": [
      "Calculating optimal clusters...:  18%|█▊        | 18/99 [02:44<15:27, 11.45s/it]"
     ]
    },
    {
     "name": "stdout",
     "output_type": "stream",
     "text": [
      "Silhouette score: 0.0590\n"
     ]
    },
    {
     "name": "stderr",
     "output_type": "stream",
     "text": [
      "Calculating optimal clusters...:  19%|█▉        | 19/99 [02:56<15:26, 11.59s/it]"
     ]
    },
    {
     "name": "stdout",
     "output_type": "stream",
     "text": [
      "Silhouette score: 0.0576\n"
     ]
    },
    {
     "name": "stderr",
     "output_type": "stream",
     "text": [
      "Calculating optimal clusters...:  20%|██        | 20/99 [03:11<16:41, 12.67s/it]"
     ]
    },
    {
     "name": "stdout",
     "output_type": "stream",
     "text": [
      "Silhouette score: 0.0617\n"
     ]
    },
    {
     "name": "stderr",
     "output_type": "stream",
     "text": [
      "Calculating optimal clusters...:  21%|██        | 21/99 [03:23<16:24, 12.62s/it]"
     ]
    },
    {
     "name": "stdout",
     "output_type": "stream",
     "text": [
      "Silhouette score: 0.0547\n"
     ]
    },
    {
     "name": "stderr",
     "output_type": "stream",
     "text": [
      "Calculating optimal clusters...:  22%|██▏       | 22/99 [03:37<16:38, 12.97s/it]"
     ]
    },
    {
     "name": "stdout",
     "output_type": "stream",
     "text": [
      "Silhouette score: 0.0559\n"
     ]
    },
    {
     "name": "stderr",
     "output_type": "stream",
     "text": [
      "Calculating optimal clusters...:  23%|██▎       | 23/99 [03:51<16:39, 13.15s/it]"
     ]
    },
    {
     "name": "stdout",
     "output_type": "stream",
     "text": [
      "Silhouette score: 0.0565\n"
     ]
    },
    {
     "name": "stderr",
     "output_type": "stream",
     "text": [
      "Calculating optimal clusters...:  24%|██▍       | 24/99 [04:05<16:53, 13.52s/it]"
     ]
    },
    {
     "name": "stdout",
     "output_type": "stream",
     "text": [
      "Silhouette score: 0.0581\n"
     ]
    },
    {
     "name": "stderr",
     "output_type": "stream",
     "text": [
      "Calculating optimal clusters...:  25%|██▌       | 25/99 [04:20<17:19, 14.05s/it]"
     ]
    },
    {
     "name": "stdout",
     "output_type": "stream",
     "text": [
      "Silhouette score: 0.0564\n"
     ]
    },
    {
     "name": "stderr",
     "output_type": "stream",
     "text": [
      "Calculating optimal clusters...:  26%|██▋       | 26/99 [04:36<17:36, 14.47s/it]"
     ]
    },
    {
     "name": "stdout",
     "output_type": "stream",
     "text": [
      "Silhouette score: 0.0573\n"
     ]
    },
    {
     "name": "stderr",
     "output_type": "stream",
     "text": [
      "Calculating optimal clusters...:  27%|██▋       | 27/99 [04:51<17:38, 14.70s/it]"
     ]
    },
    {
     "name": "stdout",
     "output_type": "stream",
     "text": [
      "Silhouette score: 0.0567\n"
     ]
    },
    {
     "name": "stderr",
     "output_type": "stream",
     "text": [
      "Calculating optimal clusters...:  28%|██▊       | 28/99 [05:07<17:58, 15.19s/it]"
     ]
    },
    {
     "name": "stdout",
     "output_type": "stream",
     "text": [
      "Silhouette score: 0.0590\n"
     ]
    },
    {
     "name": "stderr",
     "output_type": "stream",
     "text": [
      "Calculating optimal clusters...:  29%|██▉       | 29/99 [05:24<18:08, 15.55s/it]"
     ]
    },
    {
     "name": "stdout",
     "output_type": "stream",
     "text": [
      "Silhouette score: 0.0567\n"
     ]
    },
    {
     "name": "stderr",
     "output_type": "stream",
     "text": [
      "Calculating optimal clusters...:  30%|███       | 30/99 [05:41<18:30, 16.10s/it]"
     ]
    },
    {
     "name": "stdout",
     "output_type": "stream",
     "text": [
      "Silhouette score: 0.0577\n"
     ]
    },
    {
     "name": "stderr",
     "output_type": "stream",
     "text": [
      "Calculating optimal clusters...:  31%|███▏      | 31/99 [05:58<18:31, 16.34s/it]"
     ]
    },
    {
     "name": "stdout",
     "output_type": "stream",
     "text": [
      "Silhouette score: 0.0575\n"
     ]
    },
    {
     "name": "stderr",
     "output_type": "stream",
     "text": [
      "Calculating optimal clusters...:  32%|███▏      | 32/99 [06:15<18:37, 16.68s/it]"
     ]
    },
    {
     "name": "stdout",
     "output_type": "stream",
     "text": [
      "Silhouette score: 0.0569\n"
     ]
    },
    {
     "name": "stderr",
     "output_type": "stream",
     "text": [
      "Calculating optimal clusters...:  33%|███▎      | 33/99 [06:33<18:33, 16.87s/it]"
     ]
    },
    {
     "name": "stdout",
     "output_type": "stream",
     "text": [
      "Silhouette score: 0.0568\n"
     ]
    },
    {
     "name": "stderr",
     "output_type": "stream",
     "text": [
      "Calculating optimal clusters...:  34%|███▍      | 34/99 [06:50<18:30, 17.08s/it]"
     ]
    },
    {
     "name": "stdout",
     "output_type": "stream",
     "text": [
      "Silhouette score: 0.0559\n"
     ]
    },
    {
     "name": "stderr",
     "output_type": "stream",
     "text": [
      "Calculating optimal clusters...:  35%|███▌      | 35/99 [07:10<18:54, 17.72s/it]"
     ]
    },
    {
     "name": "stdout",
     "output_type": "stream",
     "text": [
      "Silhouette score: 0.0560\n"
     ]
    },
    {
     "name": "stderr",
     "output_type": "stream",
     "text": [
      "Calculating optimal clusters...:  36%|███▋      | 36/99 [07:28<18:57, 18.06s/it]"
     ]
    },
    {
     "name": "stdout",
     "output_type": "stream",
     "text": [
      "Silhouette score: 0.0582\n"
     ]
    },
    {
     "name": "stderr",
     "output_type": "stream",
     "text": [
      "Calculating optimal clusters...:  37%|███▋      | 37/99 [07:48<19:01, 18.42s/it]"
     ]
    },
    {
     "name": "stdout",
     "output_type": "stream",
     "text": [
      "Silhouette score: 0.0574\n"
     ]
    },
    {
     "name": "stderr",
     "output_type": "stream",
     "text": [
      "Calculating optimal clusters...:  38%|███▊      | 38/99 [08:07<19:00, 18.69s/it]"
     ]
    },
    {
     "name": "stdout",
     "output_type": "stream",
     "text": [
      "Silhouette score: 0.0549\n"
     ]
    },
    {
     "name": "stderr",
     "output_type": "stream",
     "text": [
      "Calculating optimal clusters...:  39%|███▉      | 39/99 [08:27<18:55, 18.93s/it]"
     ]
    },
    {
     "name": "stdout",
     "output_type": "stream",
     "text": [
      "Silhouette score: 0.0553\n"
     ]
    },
    {
     "name": "stderr",
     "output_type": "stream",
     "text": [
      "Calculating optimal clusters...:  40%|████      | 40/99 [08:47<19:07, 19.45s/it]"
     ]
    },
    {
     "name": "stdout",
     "output_type": "stream",
     "text": [
      "Silhouette score: 0.0576\n"
     ]
    },
    {
     "name": "stderr",
     "output_type": "stream",
     "text": [
      "Calculating optimal clusters...:  41%|████▏     | 41/99 [09:08<19:08, 19.81s/it]"
     ]
    },
    {
     "name": "stdout",
     "output_type": "stream",
     "text": [
      "Silhouette score: 0.0547\n"
     ]
    },
    {
     "name": "stderr",
     "output_type": "stream",
     "text": [
      "Calculating optimal clusters...:  42%|████▏     | 42/99 [09:29<19:03, 20.07s/it]"
     ]
    },
    {
     "name": "stdout",
     "output_type": "stream",
     "text": [
      "Silhouette score: 0.0571\n"
     ]
    },
    {
     "name": "stderr",
     "output_type": "stream",
     "text": [
      "Calculating optimal clusters...:  43%|████▎     | 43/99 [09:50<19:10, 20.54s/it]"
     ]
    },
    {
     "name": "stdout",
     "output_type": "stream",
     "text": [
      "Silhouette score: 0.0565\n"
     ]
    },
    {
     "name": "stderr",
     "output_type": "stream",
     "text": [
      "Calculating optimal clusters...:  44%|████▍     | 44/99 [10:12<19:15, 21.01s/it]"
     ]
    },
    {
     "name": "stdout",
     "output_type": "stream",
     "text": [
      "Silhouette score: 0.0555\n"
     ]
    },
    {
     "name": "stderr",
     "output_type": "stream",
     "text": [
      "Calculating optimal clusters...:  45%|████▌     | 45/99 [10:35<19:16, 21.41s/it]"
     ]
    },
    {
     "name": "stdout",
     "output_type": "stream",
     "text": [
      "Silhouette score: 0.0560\n"
     ]
    },
    {
     "name": "stderr",
     "output_type": "stream",
     "text": [
      "Calculating optimal clusters...:  46%|████▋     | 46/99 [10:56<18:50, 21.33s/it]"
     ]
    },
    {
     "name": "stdout",
     "output_type": "stream",
     "text": [
      "Silhouette score: 0.0558\n"
     ]
    },
    {
     "name": "stderr",
     "output_type": "stream",
     "text": [
      "Calculating optimal clusters...:  47%|████▋     | 47/99 [11:17<18:30, 21.36s/it]"
     ]
    },
    {
     "name": "stdout",
     "output_type": "stream",
     "text": [
      "Silhouette score: 0.0524\n"
     ]
    },
    {
     "name": "stderr",
     "output_type": "stream",
     "text": [
      "Calculating optimal clusters...:  48%|████▊     | 48/99 [11:39<18:13, 21.43s/it]"
     ]
    },
    {
     "name": "stdout",
     "output_type": "stream",
     "text": [
      "Silhouette score: 0.0544\n"
     ]
    },
    {
     "name": "stderr",
     "output_type": "stream",
     "text": [
      "Calculating optimal clusters...:  49%|████▉     | 49/99 [12:01<18:05, 21.70s/it]"
     ]
    },
    {
     "name": "stdout",
     "output_type": "stream",
     "text": [
      "Silhouette score: 0.0552\n"
     ]
    },
    {
     "name": "stderr",
     "output_type": "stream",
     "text": [
      "Calculating optimal clusters...:  51%|█████     | 50/99 [12:25<18:15, 22.35s/it]"
     ]
    },
    {
     "name": "stdout",
     "output_type": "stream",
     "text": [
      "Silhouette score: 0.0566\n"
     ]
    },
    {
     "name": "stderr",
     "output_type": "stream",
     "text": [
      "Calculating optimal clusters...:  52%|█████▏    | 51/99 [12:48<18:03, 22.57s/it]"
     ]
    },
    {
     "name": "stdout",
     "output_type": "stream",
     "text": [
      "Silhouette score: 0.0561\n"
     ]
    },
    {
     "name": "stderr",
     "output_type": "stream",
     "text": [
      "Calculating optimal clusters...:  53%|█████▎    | 52/99 [13:12<17:59, 22.96s/it]"
     ]
    },
    {
     "name": "stdout",
     "output_type": "stream",
     "text": [
      "Silhouette score: 0.0541\n"
     ]
    },
    {
     "name": "stderr",
     "output_type": "stream",
     "text": [
      "Calculating optimal clusters...:  54%|█████▎    | 53/99 [13:36<17:45, 23.17s/it]"
     ]
    },
    {
     "name": "stdout",
     "output_type": "stream",
     "text": [
      "Silhouette score: 0.0543\n"
     ]
    },
    {
     "name": "stderr",
     "output_type": "stream",
     "text": [
      "Calculating optimal clusters...:  55%|█████▍    | 54/99 [14:01<17:52, 23.83s/it]"
     ]
    },
    {
     "name": "stdout",
     "output_type": "stream",
     "text": [
      "Silhouette score: 0.0537\n"
     ]
    },
    {
     "name": "stderr",
     "output_type": "stream",
     "text": [
      "Calculating optimal clusters...:  56%|█████▌    | 55/99 [14:26<17:43, 24.18s/it]"
     ]
    },
    {
     "name": "stdout",
     "output_type": "stream",
     "text": [
      "Silhouette score: 0.0555\n"
     ]
    },
    {
     "name": "stderr",
     "output_type": "stream",
     "text": [
      "Calculating optimal clusters...:  57%|█████▋    | 56/99 [14:52<17:44, 24.77s/it]"
     ]
    },
    {
     "name": "stdout",
     "output_type": "stream",
     "text": [
      "Silhouette score: 0.0526\n"
     ]
    },
    {
     "name": "stderr",
     "output_type": "stream",
     "text": [
      "Calculating optimal clusters...:  58%|█████▊    | 57/99 [15:18<17:33, 25.08s/it]"
     ]
    },
    {
     "name": "stdout",
     "output_type": "stream",
     "text": [
      "Silhouette score: 0.0539\n"
     ]
    },
    {
     "name": "stderr",
     "output_type": "stream",
     "text": [
      "Calculating optimal clusters...:  59%|█████▊    | 58/99 [15:44<17:24, 25.47s/it]"
     ]
    },
    {
     "name": "stdout",
     "output_type": "stream",
     "text": [
      "Silhouette score: 0.0544\n"
     ]
    },
    {
     "name": "stderr",
     "output_type": "stream",
     "text": [
      "Calculating optimal clusters...:  60%|█████▉    | 59/99 [16:10<17:07, 25.69s/it]"
     ]
    },
    {
     "name": "stdout",
     "output_type": "stream",
     "text": [
      "Silhouette score: 0.0565\n"
     ]
    },
    {
     "name": "stderr",
     "output_type": "stream",
     "text": [
      "Calculating optimal clusters...:  61%|██████    | 60/99 [16:37<16:55, 26.04s/it]"
     ]
    },
    {
     "name": "stdout",
     "output_type": "stream",
     "text": [
      "Silhouette score: 0.0552\n"
     ]
    },
    {
     "name": "stderr",
     "output_type": "stream",
     "text": [
      "Calculating optimal clusters...:  62%|██████▏   | 61/99 [17:04<16:40, 26.33s/it]"
     ]
    },
    {
     "name": "stdout",
     "output_type": "stream",
     "text": [
      "Silhouette score: 0.0556\n"
     ]
    },
    {
     "name": "stderr",
     "output_type": "stream",
     "text": [
      "Calculating optimal clusters...:  63%|██████▎   | 62/99 [17:32<16:27, 26.69s/it]"
     ]
    },
    {
     "name": "stdout",
     "output_type": "stream",
     "text": [
      "Silhouette score: 0.0538\n"
     ]
    },
    {
     "name": "stderr",
     "output_type": "stream",
     "text": [
      "Calculating optimal clusters...:  64%|██████▎   | 63/99 [17:59<16:05, 26.83s/it]"
     ]
    },
    {
     "name": "stdout",
     "output_type": "stream",
     "text": [
      "Silhouette score: 0.0534\n"
     ]
    },
    {
     "name": "stderr",
     "output_type": "stream",
     "text": [
      "Calculating optimal clusters...:  65%|██████▍   | 64/99 [18:28<15:58, 27.37s/it]"
     ]
    },
    {
     "name": "stdout",
     "output_type": "stream",
     "text": [
      "Silhouette score: 0.0528\n"
     ]
    },
    {
     "name": "stderr",
     "output_type": "stream",
     "text": [
      "Calculating optimal clusters...:  66%|██████▌   | 65/99 [18:56<15:42, 27.72s/it]"
     ]
    },
    {
     "name": "stdout",
     "output_type": "stream",
     "text": [
      "Silhouette score: 0.0542\n"
     ]
    },
    {
     "name": "stderr",
     "output_type": "stream",
     "text": [
      "Calculating optimal clusters...:  67%|██████▋   | 66/99 [19:25<15:27, 28.12s/it]"
     ]
    },
    {
     "name": "stdout",
     "output_type": "stream",
     "text": [
      "Silhouette score: 0.0554\n"
     ]
    },
    {
     "name": "stderr",
     "output_type": "stream",
     "text": [
      "Calculating optimal clusters...:  68%|██████▊   | 67/99 [19:54<15:06, 28.33s/it]"
     ]
    },
    {
     "name": "stdout",
     "output_type": "stream",
     "text": [
      "Silhouette score: 0.0528\n"
     ]
    },
    {
     "name": "stderr",
     "output_type": "stream",
     "text": [
      "Calculating optimal clusters...:  69%|██████▊   | 68/99 [20:25<14:59, 29.03s/it]"
     ]
    },
    {
     "name": "stdout",
     "output_type": "stream",
     "text": [
      "Silhouette score: 0.0536\n"
     ]
    },
    {
     "name": "stderr",
     "output_type": "stream",
     "text": [
      "Calculating optimal clusters...:  70%|██████▉   | 69/99 [20:55<14:41, 29.39s/it]"
     ]
    },
    {
     "name": "stdout",
     "output_type": "stream",
     "text": [
      "Silhouette score: 0.0552\n"
     ]
    },
    {
     "name": "stderr",
     "output_type": "stream",
     "text": [
      "Calculating optimal clusters...:  71%|███████   | 70/99 [21:25<14:17, 29.56s/it]"
     ]
    },
    {
     "name": "stdout",
     "output_type": "stream",
     "text": [
      "Silhouette score: 0.0563\n"
     ]
    },
    {
     "name": "stderr",
     "output_type": "stream",
     "text": [
      "Calculating optimal clusters...:  72%|███████▏  | 71/99 [21:55<13:52, 29.72s/it]"
     ]
    },
    {
     "name": "stdout",
     "output_type": "stream",
     "text": [
      "Silhouette score: 0.0533\n"
     ]
    },
    {
     "name": "stderr",
     "output_type": "stream",
     "text": [
      "Calculating optimal clusters...:  73%|███████▎  | 72/99 [22:28<13:49, 30.74s/it]"
     ]
    },
    {
     "name": "stdout",
     "output_type": "stream",
     "text": [
      "Silhouette score: 0.0543\n"
     ]
    },
    {
     "name": "stderr",
     "output_type": "stream",
     "text": [
      "Calculating optimal clusters...:  74%|███████▎  | 73/99 [22:59<13:21, 30.83s/it]"
     ]
    },
    {
     "name": "stdout",
     "output_type": "stream",
     "text": [
      "Silhouette score: 0.0525\n"
     ]
    },
    {
     "name": "stderr",
     "output_type": "stream",
     "text": [
      "Calculating optimal clusters...:  75%|███████▍  | 74/99 [23:31<13:00, 31.20s/it]"
     ]
    },
    {
     "name": "stdout",
     "output_type": "stream",
     "text": [
      "Silhouette score: 0.0550\n"
     ]
    },
    {
     "name": "stderr",
     "output_type": "stream",
     "text": [
      "Calculating optimal clusters...:  76%|███████▌  | 75/99 [24:04<12:37, 31.56s/it]"
     ]
    },
    {
     "name": "stdout",
     "output_type": "stream",
     "text": [
      "Silhouette score: 0.0520\n"
     ]
    },
    {
     "name": "stderr",
     "output_type": "stream",
     "text": [
      "Calculating optimal clusters...:  77%|███████▋  | 76/99 [24:37<12:16, 32.04s/it]"
     ]
    },
    {
     "name": "stdout",
     "output_type": "stream",
     "text": [
      "Silhouette score: 0.0535\n"
     ]
    },
    {
     "name": "stderr",
     "output_type": "stream",
     "text": [
      "Calculating optimal clusters...:  78%|███████▊  | 77/99 [25:10<11:50, 32.29s/it]"
     ]
    },
    {
     "name": "stdout",
     "output_type": "stream",
     "text": [
      "Silhouette score: 0.0549\n"
     ]
    },
    {
     "name": "stderr",
     "output_type": "stream",
     "text": [
      "Calculating optimal clusters...:  79%|███████▉  | 78/99 [25:43<11:22, 32.48s/it]"
     ]
    },
    {
     "name": "stdout",
     "output_type": "stream",
     "text": [
      "Silhouette score: 0.0540\n"
     ]
    },
    {
     "name": "stderr",
     "output_type": "stream",
     "text": [
      "Calculating optimal clusters...:  80%|███████▉  | 79/99 [26:15<10:50, 32.55s/it]"
     ]
    },
    {
     "name": "stdout",
     "output_type": "stream",
     "text": [
      "Silhouette score: 0.0556\n"
     ]
    },
    {
     "name": "stderr",
     "output_type": "stream",
     "text": [
      "Calculating optimal clusters...:  81%|████████  | 80/99 [26:48<10:21, 32.73s/it]"
     ]
    },
    {
     "name": "stdout",
     "output_type": "stream",
     "text": [
      "Silhouette score: 0.0539\n"
     ]
    },
    {
     "name": "stderr",
     "output_type": "stream",
     "text": [
      "Calculating optimal clusters...:  82%|████████▏ | 81/99 [27:22<09:56, 33.11s/it]"
     ]
    },
    {
     "name": "stdout",
     "output_type": "stream",
     "text": [
      "Silhouette score: 0.0532\n"
     ]
    },
    {
     "name": "stderr",
     "output_type": "stream",
     "text": [
      "Calculating optimal clusters...:  83%|████████▎ | 82/99 [27:56<09:26, 33.33s/it]"
     ]
    },
    {
     "name": "stdout",
     "output_type": "stream",
     "text": [
      "Silhouette score: 0.0546\n"
     ]
    },
    {
     "name": "stderr",
     "output_type": "stream",
     "text": [
      "Calculating optimal clusters...:  84%|████████▍ | 83/99 [28:31<08:58, 33.63s/it]"
     ]
    },
    {
     "name": "stdout",
     "output_type": "stream",
     "text": [
      "Silhouette score: 0.0539\n"
     ]
    },
    {
     "name": "stderr",
     "output_type": "stream",
     "text": [
      "Calculating optimal clusters...:  85%|████████▍ | 84/99 [29:06<08:30, 34.06s/it]"
     ]
    },
    {
     "name": "stdout",
     "output_type": "stream",
     "text": [
      "Silhouette score: 0.0540\n"
     ]
    },
    {
     "name": "stderr",
     "output_type": "stream",
     "text": [
      "Calculating optimal clusters...:  86%|████████▌ | 85/99 [29:41<08:02, 34.46s/it]"
     ]
    },
    {
     "name": "stdout",
     "output_type": "stream",
     "text": [
      "Silhouette score: 0.0533\n"
     ]
    },
    {
     "name": "stderr",
     "output_type": "stream",
     "text": [
      "Calculating optimal clusters...:  87%|████████▋ | 86/99 [30:17<07:35, 35.00s/it]"
     ]
    },
    {
     "name": "stdout",
     "output_type": "stream",
     "text": [
      "Silhouette score: 0.0550\n"
     ]
    },
    {
     "name": "stderr",
     "output_type": "stream",
     "text": [
      "Calculating optimal clusters...:  88%|████████▊ | 87/99 [30:56<07:14, 36.19s/it]"
     ]
    },
    {
     "name": "stdout",
     "output_type": "stream",
     "text": [
      "Silhouette score: 0.0564\n"
     ]
    },
    {
     "name": "stderr",
     "output_type": "stream",
     "text": [
      "Calculating optimal clusters...:  89%|████████▉ | 88/99 [31:33<06:39, 36.34s/it]"
     ]
    },
    {
     "name": "stdout",
     "output_type": "stream",
     "text": [
      "Silhouette score: 0.0531\n"
     ]
    },
    {
     "name": "stderr",
     "output_type": "stream",
     "text": [
      "Calculating optimal clusters...:  90%|████████▉ | 89/99 [32:10<06:06, 36.62s/it]"
     ]
    },
    {
     "name": "stdout",
     "output_type": "stream",
     "text": [
      "Silhouette score: 0.0570\n"
     ]
    },
    {
     "name": "stderr",
     "output_type": "stream",
     "text": [
      "Calculating optimal clusters...:  91%|█████████ | 90/99 [32:47<05:30, 36.76s/it]"
     ]
    },
    {
     "name": "stdout",
     "output_type": "stream",
     "text": [
      "Silhouette score: 0.0545\n"
     ]
    },
    {
     "name": "stderr",
     "output_type": "stream",
     "text": [
      "Calculating optimal clusters...:  92%|█████████▏| 91/99 [33:25<04:56, 37.09s/it]"
     ]
    },
    {
     "name": "stdout",
     "output_type": "stream",
     "text": [
      "Silhouette score: 0.0572\n"
     ]
    },
    {
     "name": "stderr",
     "output_type": "stream",
     "text": [
      "Calculating optimal clusters...:  93%|█████████▎| 92/99 [34:03<04:20, 37.28s/it]"
     ]
    },
    {
     "name": "stdout",
     "output_type": "stream",
     "text": [
      "Silhouette score: 0.0552\n"
     ]
    },
    {
     "name": "stderr",
     "output_type": "stream",
     "text": [
      "Calculating optimal clusters...:  94%|█████████▍| 93/99 [34:41<03:45, 37.55s/it]"
     ]
    },
    {
     "name": "stdout",
     "output_type": "stream",
     "text": [
      "Silhouette score: 0.0540\n"
     ]
    },
    {
     "name": "stderr",
     "output_type": "stream",
     "text": [
      "Calculating optimal clusters...:  95%|█████████▍| 94/99 [35:21<03:11, 38.36s/it]"
     ]
    },
    {
     "name": "stdout",
     "output_type": "stream",
     "text": [
      "Silhouette score: 0.0538\n"
     ]
    },
    {
     "name": "stderr",
     "output_type": "stream",
     "text": [
      "Calculating optimal clusters...:  96%|█████████▌| 95/99 [36:01<02:34, 38.69s/it]"
     ]
    },
    {
     "name": "stdout",
     "output_type": "stream",
     "text": [
      "Silhouette score: 0.0548\n"
     ]
    },
    {
     "name": "stderr",
     "output_type": "stream",
     "text": [
      "Calculating optimal clusters...:  97%|█████████▋| 96/99 [36:41<01:56, 38.99s/it]"
     ]
    },
    {
     "name": "stdout",
     "output_type": "stream",
     "text": [
      "Silhouette score: 0.0549\n"
     ]
    },
    {
     "name": "stderr",
     "output_type": "stream",
     "text": [
      "Calculating optimal clusters...:  98%|█████████▊| 97/99 [37:20<01:18, 39.21s/it]"
     ]
    },
    {
     "name": "stdout",
     "output_type": "stream",
     "text": [
      "Silhouette score: 0.0547\n"
     ]
    },
    {
     "name": "stderr",
     "output_type": "stream",
     "text": [
      "Calculating optimal clusters...:  99%|█████████▉| 98/99 [38:00<00:39, 39.39s/it]"
     ]
    },
    {
     "name": "stdout",
     "output_type": "stream",
     "text": [
      "Silhouette score: 0.0537\n"
     ]
    },
    {
     "name": "stderr",
     "output_type": "stream",
     "text": [
      "Calculating optimal clusters...: 100%|██████████| 99/99 [38:39<00:00, 23.43s/it]"
     ]
    },
    {
     "name": "stdout",
     "output_type": "stream",
     "text": [
      "Silhouette score: 0.0557\n"
     ]
    },
    {
     "name": "stderr",
     "output_type": "stream",
     "text": [
      "\n"
     ]
    }
   ],
   "source": [
    "ica = ImageClusteringAlgorithm()\n",
    "image_directory = os.path.expanduser(\"~/Downloads/JPGs\")\n",
    "features_file = os.path.expanduser(\"~/Downloads/JPGs/Features_v0.1.pkl\")\n",
    "clusters_file = os.path.expanduser(\"~/Downloads/JPGs/Clusters_v0.1.pkl\")\n",
    "if not os.path.exists(features_file):\n",
    "    ica.compute_features(image_directory)\n",
    "    ica.save_features(features_file)\n",
    "else:\n",
    "    ica.load_features(features_file)\n",
    "if not os.path.exists(clusters_file):\n",
    "    max_clusters = 100\n",
    "    ica.compute_clusters(max_clusters)\n",
    "    ica.save_clusters(clusters_file)\n",
    "else:\n",
    "    ica.load_clusters(clusters_file)\n",
    "#ica.save_clustered_images(\"~/Downloads/ClusteredJPGs\")"
   ]
  }
 ],
 "metadata": {
  "kernelspec": {
   "display_name": "clustering-NSSxPA_6",
   "language": "python",
   "name": "python3"
  },
  "language_info": {
   "codemirror_mode": {
    "name": "ipython",
    "version": 3
   },
   "file_extension": ".py",
   "mimetype": "text/x-python",
   "name": "python",
   "nbconvert_exporter": "python",
   "pygments_lexer": "ipython3",
   "version": "3.11.3"
  },
  "orig_nbformat": 4
 },
 "nbformat": 4,
 "nbformat_minor": 2
}
